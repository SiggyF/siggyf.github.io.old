{
 "metadata": {
  "name": ""
 },
 "nbformat": 3,
 "nbformat_minor": 0,
 "worksheets": [
  {
   "cells": [
    {
     "cell_type": "markdown",
     "metadata": {
      "slideshow": {
       "slide_type": "slide"
      }
     },
     "source": [
      "Sea-level monitor\n",
      "=================\n",
      "\n",
      "An open data example\n",
      "--------------------"
     ]
    },
    {
     "cell_type": "markdown",
     "metadata": {
      "slideshow": {
       "slide_type": "subslide"
      }
     },
     "source": [
      "![Sea-level monitor](files/figures/sealevelmonitor.png)"
     ]
    },
    {
     "cell_type": "markdown",
     "metadata": {
      "slideshow": {
       "slide_type": "subslide"
      }
     },
     "source": [
      "\n",
      "Temporary URL:\n",
      "\n",
      "[http://dtvirt5.deltares.nl/sealevel](http://dtvirt5.deltares.nl/sealevel)"
     ]
    },
    {
     "cell_type": "markdown",
     "metadata": {
      "slideshow": {
       "slide_type": "slide"
      }
     },
     "source": [
      "Data sources\n",
      "============"
     ]
    },
    {
     "cell_type": "markdown",
     "metadata": {
      "slideshow": {
       "slide_type": "subslide"
      }
     },
     "source": [
      "![Tide gauge](files/figures/tidegauge2.jpeg)"
     ]
    },
    {
     "cell_type": "markdown",
     "metadata": {
      "slideshow": {
       "slide_type": "subslide"
      }
     },
     "source": [
      "![Altimetry](files/figures/jason3.png)"
     ]
    },
    {
     "cell_type": "markdown",
     "metadata": {
      "slideshow": {
       "slide_type": "subslide"
      }
     },
     "source": [
      "* Tide gauges\n",
      "    - Waterdata\n",
      "    - PSMSL\n",
      "* Satellite\n",
      "    - NOAA\n",
      "    - AVISO\n",
      "* Wind \n",
      "    - KNMI\n",
      "    - NCAR\n",
      "* GIA\n",
      "    - utoronto.ca\n",
      "* IB\n",
      "    - NCAR\n",
      "    "
     ]
    },
    {
     "cell_type": "markdown",
     "metadata": {
      "slideshow": {
       "slide_type": "subslide"
      }
     },
     "source": [
      "![Venice](files/figures/venice.png)"
     ]
    },
    {
     "cell_type": "markdown",
     "metadata": {
      "slideshow": {
       "slide_type": "subslide"
      }
     },
     "source": [
      "![Reconstruction of historic storms](files/figures/combinedfigures.png)"
     ]
    },
    {
     "cell_type": "markdown",
     "metadata": {
      "slideshow": {
       "slide_type": "subslide"
      }
     },
     "source": [
      "![Currying](files/figures/datasets.png)"
     ]
    },
    {
     "cell_type": "markdown",
     "metadata": {
      "slideshow": {
       "slide_type": "subslide"
      }
     },
     "source": [
      "![Curry](files/figures/curry.jpg)"
     ]
    },
    {
     "cell_type": "markdown",
     "metadata": {
      "slideshow": {
       "slide_type": "slide"
      }
     },
     "source": [
      "Common topics\n",
      "===================="
     ]
    },
    {
     "cell_type": "markdown",
     "metadata": {
      "slideshow": {
       "slide_type": "subslide"
      }
     },
     "source": [
      "![sea level coastal defense](files/figures/bagger.png)"
     ]
    },
    {
     "cell_type": "markdown",
     "metadata": {
      "slideshow": {
       "slide_type": "subslide"
      }
     },
     "source": [
      "![Overestimate](files/figures/overestimate.png)"
     ]
    },
    {
     "cell_type": "markdown",
     "metadata": {
      "slideshow": {
       "slide_type": "subslide"
      }
     },
     "source": [
      "![Troika](files/figures/troika.png)"
     ]
    },
    {
     "cell_type": "markdown",
     "metadata": {
      "slideshow": {
       "slide_type": "subslide"
      }
     },
     "source": [
      "![Chain](files/figures/chain.png)"
     ]
    },
    {
     "cell_type": "markdown",
     "metadata": {
      "slideshow": {
       "slide_type": "subslide"
      }
     },
     "source": [
      "![Nodal cycle](files/figures/nodal.png)"
     ]
    },
    {
     "cell_type": "markdown",
     "metadata": {},
     "source": [
      "![Probability of breaching](files/figures/existential.png)"
     ]
    },
    {
     "cell_type": "markdown",
     "metadata": {
      "slideshow": {
       "slide_type": "slide"
      }
     },
     "source": [
      "Required skills\n",
      "==============="
     ]
    },
    {
     "cell_type": "markdown",
     "metadata": {
      "slideshow": {
       "slide_type": "subslide"
      }
     },
     "source": [
      "![Waterdata](files/figures/waterbase2.png)"
     ]
    },
    {
     "cell_type": "code",
     "collapsed": false,
     "input": [
      "%%bash\n",
      "# Download all files\n",
      "wget -c -nd --recursive --accept '*.nc*' ftp://ftp.aviso.oceanobs.com/pub/oceano/AVISO/SSH/climatology/global/monthly_mean_dt_upd\n",
      "# Unzip them all\n",
      "gunzip *.nc.gz\n",
      "# Create an extra dimension in each file\n",
      "for f in $(find . -name 'dt_upd_*.nc' -exec basename {} \\;);\n",
      "do \n",
      "    ncecat -v Grid_0001 $f record_$f; \n",
      "done\n",
      "# Fix some stuff\n",
      "python update_records.py\n",
      "# Combine along the time dimension\n",
      "ncrcat record_*.nc dt_upd_global_merged_msla_h_merged.nc\n",
      "# Cleanup\n",
      "rm record_*.nc\n"
     ],
     "language": "python",
     "metadata": {
      "slideshow": {
       "slide_type": "subslide"
      }
     },
     "outputs": [
      {
       "output_type": "stream",
       "stream": "stdout",
       "text": [
        "Process is terminated.\n"
       ]
      }
     ],
     "prompt_number": 1
    },
    {
     "cell_type": "code",
     "collapsed": false,
     "input": [
      "#!/usr/bin/env python\n",
      "import os\n",
      "import re\n",
      "import datetime\n",
      "import netCDF4\n",
      "name_re = re.compile(r'.*_y(?P<year>\\d+)_m(?P<month>\\d+).nc')\n",
      "unit = \"seconds since 1970-01-01z00:00\"\n",
      "files = [f for f in os.listdir(\".\") if f.startswith('record_') and f.endswith('.nc')]\n",
      "for filename in files:\n",
      "    match = name_re.search(filename).groupdict()\n",
      "    ds = netCDF4.Dataset(filename, \"a\")\n",
      "    var = ds.createVariable(\"time\", \"double\", dimensions=(\"record\",))\n",
      "    var.units = unit\n",
      "    date = datetime.datetime(int(match[\"year\"]), int(match[\"month\"]), 1)\n",
      "    datenum = netCDF4.date2num([date], unit)\n",
      "    var[0] = datenum\n",
      "    ds.close()\n"
     ],
     "language": "python",
     "metadata": {
      "slideshow": {
       "slide_type": "subslide"
      }
     },
     "outputs": []
    },
    {
     "cell_type": "markdown",
     "metadata": {
      "slideshow": {
       "slide_type": "subslide"
      }
     },
     "source": [
      "![Waterdata](files/figures/waterdata.png)"
     ]
    },
    {
     "cell_type": "markdown",
     "metadata": {
      "slideshow": {
       "slide_type": "subslide"
      }
     },
     "source": [
      "![Sea level](files/figures/ssl.png)"
     ]
    },
    {
     "cell_type": "markdown",
     "metadata": {
      "slideshow": {
       "slide_type": "subslide"
      }
     },
     "source": [
      "![Languages](files/figures/languages.png)"
     ]
    },
    {
     "cell_type": "markdown",
     "metadata": {
      "slideshow": {
       "slide_type": "subslide"
      }
     },
     "source": [
      "![Which quantity](files/figures/rorschach.png)"
     ]
    },
    {
     "cell_type": "markdown",
     "metadata": {
      "slideshow": {
       "slide_type": "subslide"
      }
     },
     "source": [
      "![Rorschach card 9](files/figures/rorschach9.jpeg)"
     ]
    },
    {
     "cell_type": "markdown",
     "metadata": {
      "slideshow": {
       "slide_type": "subslide"
      }
     },
     "source": [
      "![Data scientists](files/figures/datascience.png)"
     ]
    },
    {
     "cell_type": "markdown",
     "metadata": {
      "slideshow": {
       "slide_type": "subslide"
      }
     },
     "source": [
      "[http://dtvirt5.deltares.nl/static/video.html](http://dtvirt5.deltares.nl/static/video.html)"
     ]
    },
    {
     "cell_type": "markdown",
     "metadata": {
      "slideshow": {
       "slide_type": "slide"
      }
     },
     "source": [
      "Open\n",
      "===="
     ]
    },
    {
     "cell_type": "markdown",
     "metadata": {
      "slideshow": {
       "slide_type": "subslide"
      }
     },
     "source": [
      "![Bazaar](files/figures/bazaar.png)"
     ]
    },
    {
     "cell_type": "markdown",
     "metadata": {
      "slideshow": {
       "slide_type": "subslide"
      }
     },
     "source": [
      "![Ocean candies](files/figures/ocean.png)"
     ]
    }
   ],
   "metadata": {}
  }
 ]
}